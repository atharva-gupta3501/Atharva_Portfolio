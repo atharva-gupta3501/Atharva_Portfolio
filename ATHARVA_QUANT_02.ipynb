{
  "nbformat": 4,
  "nbformat_minor": 0,
  "metadata": {
    "colab": {
      "provenance": [],
      "collapsed_sections": []
    },
    "kernelspec": {
      "name": "python3",
      "display_name": "Python 3"
    }
  },
  "cells": [
    {
      "cell_type": "markdown",
      "metadata": {
        "id": "NRniYiwcGise"
      },
      "source": [
        "# **FEC ASSIGNMENT #2**\n"
      ]
    },
    {
      "cell_type": "code",
      "metadata": {
        "id": "aYoZqBe1suPN"
      },
      "source": [
        "import numpy as np\n",
        "import pandas as pd\n",
        "import pandas_datareader.data as web\n",
        "import matplotlib.pyplot as plt\n"
      ],
      "execution_count": null,
      "outputs": []
    },
    {
      "cell_type": "code",
      "metadata": {
        "id": "EBk_eyHTtv3A"
      },
      "source": [
        "stocks = ['AMZN','CIPLA.NS','HDB','IOC.NS','TTM']"
      ],
      "execution_count": 1,
      "outputs": []
    },
    {
      "cell_type": "code",
      "metadata": {
        "id": "AXYku8Iqvjc1"
      },
      "source": [
        "data = web.DataReader(stocks,data_source='yahoo',start='01/04/2015',end='31/03/2017')['Adj Close']\n",
        "\n",
        "data.sort_index(inplace=True)"
      ],
      "execution_count": null,
      "outputs": []
    },
    {
      "cell_type": "code",
      "metadata": {
        "id": "FtWbslnCySsj"
      },
      "source": [
        "returns = data.pct_change()\n"
      ],
      "execution_count": null,
      "outputs": []
    },
    {
      "cell_type": "code",
      "metadata": {
        "id": "ZXf9fGswyYYY",
        "colab": {
          "base_uri": "https://localhost:8080/",
          "height": 178
        },
        "outputId": "f5cc811b-7b57-40d7-d2e1-d21ef11f5d0d"
      },
      "source": [
        "mean_daily_returns = returns.mean()\n",
        "cov_matrix = returns.cov()\n"
      ],
      "execution_count": null,
      "outputs": [
        {
          "output_type": "error",
          "ename": "NameError",
          "evalue": "ignored",
          "traceback": [
            "\u001b[0;31m---------------------------------------------------------------------------\u001b[0m",
            "\u001b[0;31mNameError\u001b[0m                                 Traceback (most recent call last)",
            "\u001b[0;32m<ipython-input-1-98e7b6c97391>\u001b[0m in \u001b[0;36m<module>\u001b[0;34m()\u001b[0m\n\u001b[0;32m----> 1\u001b[0;31m \u001b[0mmean_daily_returns\u001b[0m \u001b[0;34m=\u001b[0m \u001b[0mreturns\u001b[0m\u001b[0;34m.\u001b[0m\u001b[0mmean\u001b[0m\u001b[0;34m(\u001b[0m\u001b[0;34m)\u001b[0m\u001b[0;34m\u001b[0m\u001b[0;34m\u001b[0m\u001b[0m\n\u001b[0m\u001b[1;32m      2\u001b[0m \u001b[0mcov_matrix\u001b[0m \u001b[0;34m=\u001b[0m \u001b[0mreturns\u001b[0m\u001b[0;34m.\u001b[0m\u001b[0mcov\u001b[0m\u001b[0;34m(\u001b[0m\u001b[0;34m)\u001b[0m\u001b[0;34m\u001b[0m\u001b[0;34m\u001b[0m\u001b[0m\n",
            "\u001b[0;31mNameError\u001b[0m: name 'returns' is not defined"
          ]
        }
      ]
    },
    {
      "cell_type": "code",
      "metadata": {
        "id": "E4Hf28bwZGo_",
        "colab": {
          "base_uri": "https://localhost:8080/",
          "height": 225
        },
        "outputId": "aa2a5e64-8b58-490e-8cd4-1f3e3c8508e9"
      },
      "source": [
        "cov_matrix\n"
      ],
      "execution_count": null,
      "outputs": [
        {
          "output_type": "execute_result",
          "data": {
            "text/html": [
              "<div>\n",
              "<style scoped>\n",
              "    .dataframe tbody tr th:only-of-type {\n",
              "        vertical-align: middle;\n",
              "    }\n",
              "\n",
              "    .dataframe tbody tr th {\n",
              "        vertical-align: top;\n",
              "    }\n",
              "\n",
              "    .dataframe thead th {\n",
              "        text-align: right;\n",
              "    }\n",
              "</style>\n",
              "<table border=\"1\" class=\"dataframe\">\n",
              "  <thead>\n",
              "    <tr style=\"text-align: right;\">\n",
              "      <th>Symbols</th>\n",
              "      <th>AMZN</th>\n",
              "      <th>CIPLA.NS</th>\n",
              "      <th>HDB</th>\n",
              "      <th>IOC.NS</th>\n",
              "      <th>TTM</th>\n",
              "    </tr>\n",
              "    <tr>\n",
              "      <th>Symbols</th>\n",
              "      <th></th>\n",
              "      <th></th>\n",
              "      <th></th>\n",
              "      <th></th>\n",
              "      <th></th>\n",
              "    </tr>\n",
              "  </thead>\n",
              "  <tbody>\n",
              "    <tr>\n",
              "      <th>AMZN</th>\n",
              "      <td>0.000356</td>\n",
              "      <td>0.000016</td>\n",
              "      <td>0.000048</td>\n",
              "      <td>0.000018</td>\n",
              "      <td>0.000120</td>\n",
              "    </tr>\n",
              "    <tr>\n",
              "      <th>CIPLA.NS</th>\n",
              "      <td>0.000016</td>\n",
              "      <td>0.000257</td>\n",
              "      <td>0.000057</td>\n",
              "      <td>0.000088</td>\n",
              "      <td>0.000064</td>\n",
              "    </tr>\n",
              "    <tr>\n",
              "      <th>HDB</th>\n",
              "      <td>0.000048</td>\n",
              "      <td>0.000057</td>\n",
              "      <td>0.000202</td>\n",
              "      <td>0.000042</td>\n",
              "      <td>0.000168</td>\n",
              "    </tr>\n",
              "    <tr>\n",
              "      <th>IOC.NS</th>\n",
              "      <td>0.000018</td>\n",
              "      <td>0.000088</td>\n",
              "      <td>0.000042</td>\n",
              "      <td>0.000351</td>\n",
              "      <td>0.000079</td>\n",
              "    </tr>\n",
              "    <tr>\n",
              "      <th>TTM</th>\n",
              "      <td>0.000120</td>\n",
              "      <td>0.000064</td>\n",
              "      <td>0.000168</td>\n",
              "      <td>0.000079</td>\n",
              "      <td>0.000521</td>\n",
              "    </tr>\n",
              "  </tbody>\n",
              "</table>\n",
              "</div>"
            ],
            "text/plain": [
              "Symbols       AMZN  CIPLA.NS       HDB    IOC.NS       TTM\n",
              "Symbols                                                   \n",
              "AMZN      0.000356  0.000016  0.000048  0.000018  0.000120\n",
              "CIPLA.NS  0.000016  0.000257  0.000057  0.000088  0.000064\n",
              "HDB       0.000048  0.000057  0.000202  0.000042  0.000168\n",
              "IOC.NS    0.000018  0.000088  0.000042  0.000351  0.000079\n",
              "TTM       0.000120  0.000064  0.000168  0.000079  0.000521"
            ]
          },
          "metadata": {
            "tags": []
          },
          "execution_count": 167
        }
      ]
    },
    {
      "cell_type": "code",
      "metadata": {
        "id": "nFSgb2Puyt5I"
      },
      "source": [
        "num_portfolios = 25000"
      ],
      "execution_count": null,
      "outputs": []
    },
    {
      "cell_type": "code",
      "metadata": {
        "id": "VhYYm8pSyvHI"
      },
      "source": [
        "results = np.zeros((4+len(stocks)-1,num_portfolios))\n"
      ],
      "execution_count": null,
      "outputs": []
    },
    {
      "cell_type": "code",
      "metadata": {
        "id": "kFDvDyVJy1nH"
      },
      "source": [
        "for i in range(num_portfolios):\n",
        "    #select random weights for portfolio holdings\n",
        "    weights = np.array(np.random.random(5))\n",
        "    #rebalance weights to sum to 1\n",
        "    weights /= np.sum(weights)\n",
        "    \n",
        "    #calculate portfolio return and volatility\n",
        "    portfolio_return = np.dot(mean_daily_returns ,weights) * 252\n",
        "    portfolio_std_dev = np.sqrt(np.dot(weights.T,np.dot(cov_matrix, weights))) * np.sqrt(252)\n",
        "    \n",
        "    #store results in results array\n",
        "    results[0,i] = portfolio_return\n",
        "    results[1,i] = portfolio_std_dev\n",
        "    #store Sharpe Ratio (return / volatility) - risk free rate element excluded for simplicity\n",
        "    results[2,i] = results[0,i] / results[1,i]\n",
        "    #iterate through the weight vector and add data to results array\n",
        "    for j in range(len(weights)):\n",
        "        results[j+3,i] = weights[j]"
      ],
      "execution_count": null,
      "outputs": []
    },
    {
      "cell_type": "code",
      "metadata": {
        "id": "s-2gjlV0z-T6"
      },
      "source": [
        "\n",
        "#convert results array to Pandas DataFrame\n",
        "results_frame = pd.DataFrame(results.T,columns=['ret','stdev','sharpe',stocks[0],stocks[1],stocks[2],stocks[3],stocks[4]])\n"
      ],
      "execution_count": null,
      "outputs": []
    },
    {
      "cell_type": "code",
      "metadata": {
        "id": "dG_7R2Fz0DPm",
        "colab": {
          "base_uri": "https://localhost:8080/",
          "height": 296
        },
        "outputId": "a62b627e-4f41-4b31-f711-ddb65adfcf2f"
      },
      "source": [
        "\n",
        "#locate position of portfolio with highest Sharpe Ratio\n",
        "max_sharpe_port = results_frame.iloc[results_frame['sharpe'].idxmax()]\n",
        "#locate positon of portfolio with minimum standard deviation\n",
        "min_vol_port = results_frame.iloc[results_frame['stdev'].idxmin()]\n",
        "#create scatter plot coloured by Sharpe Ratio\n",
        "plt.scatter(results_frame.stdev,results_frame.ret,c=results_frame.sharpe,cmap='RdYlBu')\n",
        "plt.xlabel('Volatility')\n",
        "plt.ylabel('Returns')\n",
        "plt.colorbar()\n",
        "#plot red star to highlight position of portfolio with highest Sharpe Ratio\n",
        "plt.scatter(max_sharpe_port[1],max_sharpe_port[0],marker=(5,1,0),color='r',s=1000)\n",
        "#plot green star to highlight position of minimum variance portfolio\n",
        "plt.scatter(min_vol_port[1],min_vol_port[0],marker=(5,1,0),color='g',s=1000)"
      ],
      "execution_count": null,
      "outputs": [
        {
          "output_type": "execute_result",
          "data": {
            "text/plain": [
              "<matplotlib.collections.PathCollection at 0x7f07e8356080>"
            ]
          },
          "metadata": {
            "tags": []
          },
          "execution_count": 165
        },
        {
          "output_type": "display_data",
          "data": {
            "image/png": "[encoded data removed]",
            "text/plain": [
              "<Figure size 432x288 with 2 Axes>"
            ]
          },
          "metadata": {
            "tags": [],
            "needs_background": "light"
          }
        }
      ]
    },
    {
      "cell_type": "code",
      "metadata": {
        "id": "GSVfRR4pcBxl",
        "colab": {
          "base_uri": "https://localhost:8080/",
          "height": 168
        },
        "outputId": "8a116d36-7891-49dc-baf5-9e4877176d7c"
      },
      "source": [
        "print(max_sharpe_port)"
      ],
      "execution_count": null,
      "outputs": [
        {
          "output_type": "stream",
          "text": [
            "ret         0.471222\n",
            "stdev       0.196616\n",
            "sharpe      2.396664\n",
            "AMZN        0.445354\n",
            "CIPLA.NS    0.023977\n",
            "HDB         0.106700\n",
            "IOC.NS      0.421228\n",
            "TTM         0.002742\n",
            "Name: 10561, dtype: float64\n"
          ],
          "name": "stdout"
        }
      ]
    },
    {
      "cell_type": "code",
      "metadata": {
        "id": "5r369_3HrW5v",
        "colab": {
          "base_uri": "https://localhost:8080/",
          "height": 168
        },
        "outputId": "7efd5a1e-090f-490e-8a89-2572bcbcb9c2"
      },
      "source": [
        "print(min_vol_port)"
      ],
      "execution_count": null,
      "outputs": [
        {
          "output_type": "stream",
          "text": [
            "ret         0.269639\n",
            "stdev       0.161782\n",
            "sharpe      1.666679\n",
            "AMZN        0.228973\n",
            "CIPLA.NS    0.249969\n",
            "HDB         0.348779\n",
            "IOC.NS      0.156720\n",
            "TTM         0.015559\n",
            "Name: 2938, dtype: float64\n"
          ],
          "name": "stdout"
        }
      ]
    },
    {
      "cell_type": "markdown",
      "metadata": {
        "id": "xDvuWLUB2Xyo"
      },
      "source": [
        "\n",
        "**Q & A:-**\n",
        "\n",
        "\n",
        "*   **How did you choose the stocks?**<br>\n",
        "I choosed the stocks from **different major sectors** that are mostly in **gain**. \n",
        "\n",
        "*  **What is the impact of increasing the number of stocks in the portfolio?**\n",
        "<br>By investing in more than one stock, an investor can reap the benefits of diversification, particularly a reduction in the riskiness of the portfolio.\n",
        "\n",
        "*   **Why are calculating the weights by optimization and not giving equal weightage to every stock?**\n",
        "<br>In order to gain **MAXIMUM RETURNS** and **MINIMUM VOLATILITY** , by taking risks rather than a portfolio with equal weights that involves inimal risks.\n",
        "* **Which optimization techniques are used by Mutual Funds currently?**\n",
        "<br>They use techniques in which future risks of mutual funds are represented by **triangular fuzzy numbers**. Firstly, a cluster analysis is proposed to categorize the huge amount of equity mutual funds into several groups based on four evaluation indices: **rates of return, standard deviation, turnover rate, and Treynor index**, in order to aid investors in making the investment decision. **The fuzzy optimization model** is proposed to determine the optimal investment proportion of each cluster. The portfolio optimization problem is developed in two ways: to maximize the future expected return subject to the given greatest future risk, and to minimize the future risk subject to a required lowest future expected return.\n",
        "\n",
        "\n",
        "\n",
        "\n",
        "\n",
        "\n"
      ]
    }
  ]
}